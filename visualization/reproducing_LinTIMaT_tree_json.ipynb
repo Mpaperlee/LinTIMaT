{
 "cells": [
  {
   "cell_type": "code",
   "execution_count": 1,
   "metadata": {
    "ExecuteTime": {
     "end_time": "2019-04-26T17:43:50.226487Z",
     "start_time": "2019-04-26T17:43:49.823362Z"
    }
   },
   "outputs": [],
   "source": [
    "from visualization_utility import *\n",
    "import json\n"
   ]
  },
  {
   "cell_type": "code",
   "execution_count": 2,
   "metadata": {
    "ExecuteTime": {
     "end_time": "2019-04-26T17:43:50.247723Z",
     "start_time": "2019-04-26T17:43:50.229926Z"
    }
   },
   "outputs": [],
   "source": [
    "label_type_dictionary, label_color_dictionary=load_color_annotation_dictionary(\"../data/ClusterColors.txt\")"
   ]
  },
  {
   "cell_type": "code",
   "execution_count": 3,
   "metadata": {
    "ExecuteTime": {
     "end_time": "2019-04-26T17:43:50.370305Z",
     "start_time": "2019-04-26T17:43:50.250773Z"
    }
   },
   "outputs": [],
   "source": [
    "# label_type_dictionary"
   ]
  },
  {
   "cell_type": "code",
   "execution_count": 4,
   "metadata": {
    "ExecuteTime": {
     "end_time": "2019-04-26T17:43:50.495466Z",
     "start_time": "2019-04-26T17:43:50.374916Z"
    }
   },
   "outputs": [],
   "source": [
    "# label_color_dictionary"
   ]
  },
  {
   "cell_type": "code",
   "execution_count": 5,
   "metadata": {
    "ExecuteTime": {
     "end_time": "2019-04-26T17:43:50.621317Z",
     "start_time": "2019-04-26T17:43:50.499612Z"
    }
   },
   "outputs": [],
   "source": [
    "data_files=[]\n",
    "data_files+=[\"../data/ZF1_F3.txt_label_HMID.txt\"]\n",
    "data_files+=[\"../data/ZF3_F6.txt_label_HMID.txt\"]\n"
   ]
  },
  {
   "cell_type": "code",
   "execution_count": 6,
   "metadata": {
    "ExecuteTime": {
     "end_time": "2019-04-26T17:43:50.770379Z",
     "start_time": "2019-04-26T17:43:50.625875Z"
    }
   },
   "outputs": [],
   "source": [
    "cell_label_dictionary, cell_HMID_dictionary=load_label_mutation_annotation_dictionary(data_files)"
   ]
  },
  {
   "cell_type": "code",
   "execution_count": 7,
   "metadata": {
    "ExecuteTime": {
     "end_time": "2019-04-26T17:43:50.862824Z",
     "start_time": "2019-04-26T17:43:50.774268Z"
    }
   },
   "outputs": [],
   "source": [
    "# cell_label_dictionary"
   ]
  },
  {
   "cell_type": "code",
   "execution_count": 8,
   "metadata": {
    "ExecuteTime": {
     "end_time": "2019-04-26T17:43:51.004897Z",
     "start_time": "2019-04-26T17:43:50.866734Z"
    }
   },
   "outputs": [],
   "source": [
    "# cell_HMID_dictionary"
   ]
  },
  {
   "cell_type": "code",
   "execution_count": 9,
   "metadata": {
    "ExecuteTime": {
     "end_time": "2019-04-26T17:43:51.133501Z",
     "start_time": "2019-04-26T17:43:51.009818Z"
    }
   },
   "outputs": [],
   "source": [
    "small_event_location_map=load_mutation_event_loaction_dictionary(cell_HMID_dictionary)"
   ]
  },
  {
   "cell_type": "code",
   "execution_count": 10,
   "metadata": {
    "ExecuteTime": {
     "end_time": "2019-04-26T17:43:51.272456Z",
     "start_time": "2019-04-26T17:43:51.137588Z"
    }
   },
   "outputs": [],
   "source": [
    "# small_event_location_map"
   ]
  },
  {
   "cell_type": "markdown",
   "metadata": {},
   "source": [
    "# producing json file for visualizing consensus tree"
   ]
  },
  {
   "cell_type": "code",
   "execution_count": 11,
   "metadata": {
    "ExecuteTime": {
     "end_time": "2019-04-26T17:43:51.635236Z",
     "start_time": "2019-04-26T17:43:51.276958Z"
    }
   },
   "outputs": [],
   "source": [
    "# matching_file_name contains the matching information of how individual tree clusters are mapped to consensus clusters\n",
    "matching_file_name = '../data/ZF1_ZF3_consensus_matching_file.txt'\n",
    "matched_cluster,node_leaf_dictionary_list,matched_tree_newicks = get_matched_cluster_node_leaf_dictionary(matching_file_name)\n"
   ]
  },
  {
   "cell_type": "code",
   "execution_count": 12,
   "metadata": {
    "ExecuteTime": {
     "end_time": "2019-04-26T17:43:51.641448Z",
     "start_time": "2019-04-26T17:43:51.638507Z"
    }
   },
   "outputs": [],
   "source": [
    "# matched_cluster"
   ]
  },
  {
   "cell_type": "code",
   "execution_count": 13,
   "metadata": {
    "ExecuteTime": {
     "end_time": "2019-04-26T17:43:51.748569Z",
     "start_time": "2019-04-26T17:43:51.643981Z"
    }
   },
   "outputs": [],
   "source": [
    "# matched_tree_newicks"
   ]
  },
  {
   "cell_type": "code",
   "execution_count": 14,
   "metadata": {
    "ExecuteTime": {
     "end_time": "2019-04-26T17:43:51.957105Z",
     "start_time": "2019-04-26T17:43:51.752438Z"
    }
   },
   "outputs": [],
   "source": [
    "# consensus_newick_file_name is the newick tree string for consensus tree, each leaf node corresponds to a consensus cluster\n",
    "consensus_newick_file_name=\"../data/ZF1_ZF3_consLineage_nonBinary.newick\"\n",
    "cons_newick_string = open(consensus_newick_file_name,\"r\").readlines()[0][:-1]\n",
    "cons_tree = loads(cons_newick_string)\n",
    "tree_root = cons_tree[0]\n",
    "out_file_name = \"ZF1_ZF3_consLineage_nonBinary.json\"\n",
    "json_dict=write_consensus_tree_json_dict(tree_root,fish_index=-1,matched_cluster=matched_cluster, node_leaf_dictionary_list=node_leaf_dictionary_list,label_type_dictionary=label_type_dictionary,label_color_dictionary=label_color_dictionary,cell_HMID_dictionary=cell_HMID_dictionary,cell_label_dictionary=cell_label_dictionary)\n",
    "out_str= json.dumps(json_dict, sort_keys=False,indent=4, separators=(',', ': '))\n",
    "fp = open(out_file_name,\"w\")\n",
    "fp.write(\"[\"+out_str+\"]\")\n",
    "fp.close()\n"
   ]
  },
  {
   "cell_type": "markdown",
   "metadata": {
    "ExecuteTime": {
     "end_time": "2019-04-26T16:24:41.902327Z",
     "start_time": "2019-04-26T16:24:41.895719Z"
    }
   },
   "source": [
    "# producing json file for visualizing individual tree ZF3"
   ]
  },
  {
   "cell_type": "code",
   "execution_count": 15,
   "metadata": {
    "ExecuteTime": {
     "end_time": "2019-04-26T17:43:52.102639Z",
     "start_time": "2019-04-26T17:43:51.960413Z"
    }
   },
   "outputs": [],
   "source": [
    "# ZF3_non_binary_tree_file is the file for visualizing individual tree ZF3, it contains the newick tree string and information of mutation nodes and cluster nodes \n",
    "ZF3_non_binary_tree_file=\"../data/ZF3_F6_nonbinary_tree_newick_for_visualization.txt\"\n",
    "tree_root, mutation_node,cluster_node,mutation_node_event_dict=load_individual_tree_visualization_file(ZF3_non_binary_tree_file)\n",
    "json_dict=write_individual_tree_non_binary(tree_root,mutation_node,cluster_node,mutation_node_event_dict,cell_label_dictionary,label_color_dictionary,label_type_dictionary,cell_HMID_dictionary,small_event_location_map)\n",
    "out_file_name=\"individual_non_binary_ZF3_final.json\"\n",
    "out_str= json.dumps(json_dict, sort_keys=False,indent=4, separators=(',', ': '))\n",
    "fp = open(out_file_name,\"w\")\n",
    "fp.write(\"[\"+out_str+\"]\")\n",
    "fp.close()\n"
   ]
  },
  {
   "cell_type": "markdown",
   "metadata": {},
   "source": [
    "# producing json file for visualizing individual tree ZF1"
   ]
  },
  {
   "cell_type": "code",
   "execution_count": 16,
   "metadata": {
    "ExecuteTime": {
     "end_time": "2019-04-26T17:43:52.476177Z",
     "start_time": "2019-04-26T17:43:52.105852Z"
    }
   },
   "outputs": [],
   "source": [
    "# ZF1_non_binary_tree_file is the file for visualizing individual tree ZF1, it contains the newick tree string and information of mutation nodes and cluster nodes \n",
    "ZF1_non_binary_tree_file=\"../data/ZF1_F3_nonbinary_tree_newick_for_visualization.txt\"\n",
    "tree_root, mutation_node,cluster_node,mutation_node_event_dict=load_individual_tree_visualization_file(ZF1_non_binary_tree_file)\n",
    "json_dict=write_individual_tree_non_binary(tree_root,mutation_node,cluster_node,mutation_node_event_dict,cell_label_dictionary,label_color_dictionary,label_type_dictionary,cell_HMID_dictionary,small_event_location_map)\n",
    "out_file_name=\"individual_non_binary_ZF1_final.json\"\n",
    "out_str= json.dumps(json_dict, sort_keys=False,indent=4, separators=(',', ': '))\n",
    "fp = open(out_file_name,\"w\")\n",
    "fp.write(\"[\"+out_str+\"]\")\n",
    "fp.close()"
   ]
  },
  {
   "cell_type": "code",
   "execution_count": null,
   "metadata": {},
   "outputs": [],
   "source": []
  },
  {
   "cell_type": "code",
   "execution_count": null,
   "metadata": {},
   "outputs": [],
   "source": []
  },
  {
   "cell_type": "code",
   "execution_count": null,
   "metadata": {},
   "outputs": [],
   "source": []
  },
  {
   "cell_type": "code",
   "execution_count": null,
   "metadata": {},
   "outputs": [],
   "source": []
  },
  {
   "cell_type": "code",
   "execution_count": null,
   "metadata": {},
   "outputs": [],
   "source": []
  }
 ],
 "metadata": {
  "kernelspec": {
   "display_name": "Python 2",
   "language": "python",
   "name": "python2"
  },
  "language_info": {
   "codemirror_mode": {
    "name": "ipython",
    "version": 2
   },
   "file_extension": ".py",
   "mimetype": "text/x-python",
   "name": "python",
   "nbconvert_exporter": "python",
   "pygments_lexer": "ipython2",
   "version": "2.7.6"
  },
  "toc": {
   "nav_menu": {},
   "number_sections": true,
   "sideBar": true,
   "skip_h1_title": false,
   "toc_cell": false,
   "toc_position": {},
   "toc_section_display": "block",
   "toc_window_display": false
  }
 },
 "nbformat": 4,
 "nbformat_minor": 2
}
